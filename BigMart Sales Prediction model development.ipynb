{
 "cells": [
  {
   "cell_type": "code",
   "execution_count": 11,
   "id": "a502d357",
   "metadata": {},
   "outputs": [],
   "source": [
    "import pandas as pd\n",
    "import numpy as np\n",
    "import matplotlib.pyplot as plt\n",
    "import seaborn as sns\n",
    "\n",
    "import warnings\n",
    "warnings.filterwarnings('ignore')"
   ]
  },
  {
   "cell_type": "code",
   "execution_count": 12,
   "id": "6803060c",
   "metadata": {},
   "outputs": [],
   "source": [
    "from sklearn.preprocessing import LabelEncoder\n",
    "from sklearn.preprocessing import OneHotEncoder\n",
    "from sklearn.model_selection import train_test_split\n",
    "from sklearn.model_selection  import cross_val_score\n",
    "from sklearn import metrics\n",
    "from sklearn.preprocessing import StandardScaler\n",
    "from sklearn.linear_model import LinearRegression\n",
    "from sklearn.ensemble import RandomForestRegressor\n",
    "from sklearn.ensemble import IsolationForest\n",
    "from sklearn.covariance import EllipticEnvelope\n",
    "from sklearn.metrics import confusion_matrix"
   ]
  },
  {
   "cell_type": "code",
   "execution_count": 13,
   "id": "4857b799",
   "metadata": {},
   "outputs": [],
   "source": [
    "from sklearn.metrics import r2_score\n",
    "from math import sqrt"
   ]
  },
  {
   "cell_type": "code",
   "execution_count": 14,
   "id": "e2d35021",
   "metadata": {},
   "outputs": [],
   "source": [
    "train = pd.read_csv('df_train_copy')"
   ]
  },
  {
   "cell_type": "code",
   "execution_count": 15,
   "id": "46c6cadd",
   "metadata": {},
   "outputs": [],
   "source": [
    "train = train[['Item_Identifier', 'Item_Weight', 'Item_Fat_Content',\n",
    "       'Item_Visibility', 'Item_Type', 'Item_MRP', 'Outlet_Identifier',\n",
    "       'Outlet_Establishment_Year', 'Outlet_Size', 'Outlet_Location_Type',\n",
    "       'Outlet_Type', 'Item_Outlet_Sales', 'Years_Established']]\n",
    "\n",
    "train_copy = train"
   ]
  },
  {
   "cell_type": "code",
   "execution_count": 16,
   "id": "65c0ffa4",
   "metadata": {},
   "outputs": [],
   "source": [
    "def do_dataset(input_dataset):\n",
    "    ip_dataset = input_dataset.drop(['Item_Identifier','Outlet_Identifier','Outlet_Establishment_Year'],axis=1)\n",
    "    print('..........unnecessary columns deleted')\n",
    "    print('dataset size :',ip_dataset.shape)\n",
    "    \n",
    "    le = LabelEncoder()\n",
    "    to_encode = ['Outlet_Size']\n",
    "    for i in to_encode:\n",
    "        ip_dataset[i] =le.fit_transform(ip_dataset[i])\n",
    "        le_name_mapping = dict(zip(le.classes_, le.transform(le.classes_)))\n",
    "        print(le_name_mapping)\n",
    "    print('..........label encoding completed')\n",
    "    print('dataset size :',ip_dataset.shape)\n",
    "    \n",
    "    \n",
    "    cat_cols = ['Item_Fat_Content','Item_Type','Outlet_Location_Type','Outlet_Type']\n",
    "    dataset = pd.get_dummies(data = ip_dataset, prefix_sep='_', columns = cat_cols, drop_first =True, dtype='int8')\n",
    "    print('..........dummy variables created')\n",
    "    print('dataset size :',dataset.shape)\n",
    "    \n",
    "    return dataset"
   ]
  },
  {
   "cell_type": "code",
   "execution_count": 17,
   "id": "d7ddb65a",
   "metadata": {},
   "outputs": [],
   "source": [
    "def run_regression(reg_dataset):\n",
    "    \n",
    "    features = reg_dataset.columns[reg_dataset.columns != 'Item_Outlet_Sales']\n",
    "    \n",
    "    X =  reg_dataset.loc[:, reg_dataset.columns != 'Item_Outlet_Sales']\n",
    "    y =  reg_dataset['Item_Outlet_Sales']\n",
    "    X_train, X_val, y_train, y_val = train_test_split(X,y,test_size=0.2,random_state=22)    \n",
    "    \n",
    "    lin_reg = LinearRegression(normalize = True)\n",
    "    lin_reg.fit(X_train,y_train)\n",
    "    y_pred = lin_reg.predict(X_val)\n",
    "    \n",
    "    #plt.figure(figsize=(8,12))\n",
    "    #sns.barplot(lin_reg.coef_,features)\n",
    "    print('Intercept : ', lin_reg.intercept_)\n",
    "    #coef = pd.Series(lin_reg.coef_,features).sort_values()\n",
    "    #print('---------------- coefficients -------------------') \n",
    "    #print(coef) \n",
    "    \n",
    "    df = pd.DataFrame({'Actual': y_val, 'Predicted': y_pred})\n",
    "    #ax1 = sns.displot(df['Actual'], color = 'red', label = \"Actual values\")\n",
    "    #sns.displot(df['Actual'], color = 'blue', label = \"Predicted values\", ax = ax1)\n",
    "    \n",
    "    sns.distplot(df['Actual'], hist=False, rug=True, label = 'Actual')\n",
    "    sns.distplot(df['Predicted'], hist=False, rug=True, label = 'Pred')\n",
    "    plt.legend()\n",
    "    plt.show()\n",
    "    \n",
    "    R2   = r2_score(y_val,y_pred)\n",
    "    MAE  = metrics.mean_absolute_error(y_val,y_pred)\n",
    "    MSE  = metrics.mean_squared_error(y_val,y_pred)\n",
    "    RMSE = sqrt(MSE)\n",
    "\n",
    "    print(\"R2 : {}, MAE : {}, MSE : {}, RMSE : {}\".format(R2, MAE, MSE, RMSE))"
   ]
  },
  {
   "cell_type": "code",
   "execution_count": 18,
   "id": "39961f24",
   "metadata": {},
   "outputs": [
    {
     "name": "stdout",
     "output_type": "stream",
     "text": [
      "..........unnecessary columns deleted\n",
      "dataset size : (8523, 10)\n",
      "{'High': 0, 'Medium': 1, 'Small': 2}\n",
      "..........label encoding completed\n",
      "dataset size : (8523, 10)\n",
      "..........dummy variables created\n",
      "dataset size : (8523, 27)\n"
     ]
    }
   ],
   "source": [
    "reg_train = do_dataset(train)"
   ]
  },
  {
   "cell_type": "code",
   "execution_count": 19,
   "id": "892e379f",
   "metadata": {},
   "outputs": [
    {
     "data": {
      "text/html": [
       "<div>\n",
       "<style scoped>\n",
       "    .dataframe tbody tr th:only-of-type {\n",
       "        vertical-align: middle;\n",
       "    }\n",
       "\n",
       "    .dataframe tbody tr th {\n",
       "        vertical-align: top;\n",
       "    }\n",
       "\n",
       "    .dataframe thead th {\n",
       "        text-align: right;\n",
       "    }\n",
       "</style>\n",
       "<table border=\"1\" class=\"dataframe\">\n",
       "  <thead>\n",
       "    <tr style=\"text-align: right;\">\n",
       "      <th></th>\n",
       "      <th>Item_Weight</th>\n",
       "      <th>Item_Visibility</th>\n",
       "      <th>Item_MRP</th>\n",
       "      <th>Outlet_Size</th>\n",
       "      <th>Item_Outlet_Sales</th>\n",
       "      <th>Years_Established</th>\n",
       "      <th>Item_Fat_Content_Regular</th>\n",
       "      <th>Item_Type_Breads</th>\n",
       "      <th>Item_Type_Breakfast</th>\n",
       "      <th>Item_Type_Canned</th>\n",
       "      <th>...</th>\n",
       "      <th>Item_Type_Others</th>\n",
       "      <th>Item_Type_Seafood</th>\n",
       "      <th>Item_Type_Snack Foods</th>\n",
       "      <th>Item_Type_Soft Drinks</th>\n",
       "      <th>Item_Type_Starchy Foods</th>\n",
       "      <th>Outlet_Location_Type_Tier 2</th>\n",
       "      <th>Outlet_Location_Type_Tier 3</th>\n",
       "      <th>Outlet_Type_Supermarket Type1</th>\n",
       "      <th>Outlet_Type_Supermarket Type2</th>\n",
       "      <th>Outlet_Type_Supermarket Type3</th>\n",
       "    </tr>\n",
       "  </thead>\n",
       "  <tbody>\n",
       "    <tr>\n",
       "      <th>0</th>\n",
       "      <td>9.30</td>\n",
       "      <td>0.016047</td>\n",
       "      <td>249.8092</td>\n",
       "      <td>1</td>\n",
       "      <td>3735.1380</td>\n",
       "      <td>22</td>\n",
       "      <td>0</td>\n",
       "      <td>0</td>\n",
       "      <td>0</td>\n",
       "      <td>0</td>\n",
       "      <td>...</td>\n",
       "      <td>0</td>\n",
       "      <td>0</td>\n",
       "      <td>0</td>\n",
       "      <td>0</td>\n",
       "      <td>0</td>\n",
       "      <td>0</td>\n",
       "      <td>0</td>\n",
       "      <td>1</td>\n",
       "      <td>0</td>\n",
       "      <td>0</td>\n",
       "    </tr>\n",
       "    <tr>\n",
       "      <th>1</th>\n",
       "      <td>5.92</td>\n",
       "      <td>0.019278</td>\n",
       "      <td>48.2692</td>\n",
       "      <td>1</td>\n",
       "      <td>443.4228</td>\n",
       "      <td>12</td>\n",
       "      <td>1</td>\n",
       "      <td>0</td>\n",
       "      <td>0</td>\n",
       "      <td>0</td>\n",
       "      <td>...</td>\n",
       "      <td>0</td>\n",
       "      <td>0</td>\n",
       "      <td>0</td>\n",
       "      <td>1</td>\n",
       "      <td>0</td>\n",
       "      <td>0</td>\n",
       "      <td>1</td>\n",
       "      <td>0</td>\n",
       "      <td>1</td>\n",
       "      <td>0</td>\n",
       "    </tr>\n",
       "    <tr>\n",
       "      <th>2</th>\n",
       "      <td>17.50</td>\n",
       "      <td>0.016760</td>\n",
       "      <td>141.6180</td>\n",
       "      <td>1</td>\n",
       "      <td>2097.2700</td>\n",
       "      <td>22</td>\n",
       "      <td>0</td>\n",
       "      <td>0</td>\n",
       "      <td>0</td>\n",
       "      <td>0</td>\n",
       "      <td>...</td>\n",
       "      <td>0</td>\n",
       "      <td>0</td>\n",
       "      <td>0</td>\n",
       "      <td>0</td>\n",
       "      <td>0</td>\n",
       "      <td>0</td>\n",
       "      <td>0</td>\n",
       "      <td>1</td>\n",
       "      <td>0</td>\n",
       "      <td>0</td>\n",
       "    </tr>\n",
       "    <tr>\n",
       "      <th>3</th>\n",
       "      <td>19.20</td>\n",
       "      <td>0.066132</td>\n",
       "      <td>182.0950</td>\n",
       "      <td>1</td>\n",
       "      <td>732.3800</td>\n",
       "      <td>23</td>\n",
       "      <td>1</td>\n",
       "      <td>0</td>\n",
       "      <td>0</td>\n",
       "      <td>0</td>\n",
       "      <td>...</td>\n",
       "      <td>0</td>\n",
       "      <td>0</td>\n",
       "      <td>0</td>\n",
       "      <td>0</td>\n",
       "      <td>0</td>\n",
       "      <td>0</td>\n",
       "      <td>1</td>\n",
       "      <td>0</td>\n",
       "      <td>0</td>\n",
       "      <td>0</td>\n",
       "    </tr>\n",
       "    <tr>\n",
       "      <th>4</th>\n",
       "      <td>8.93</td>\n",
       "      <td>0.066132</td>\n",
       "      <td>53.8614</td>\n",
       "      <td>0</td>\n",
       "      <td>994.7052</td>\n",
       "      <td>34</td>\n",
       "      <td>0</td>\n",
       "      <td>0</td>\n",
       "      <td>0</td>\n",
       "      <td>0</td>\n",
       "      <td>...</td>\n",
       "      <td>0</td>\n",
       "      <td>0</td>\n",
       "      <td>0</td>\n",
       "      <td>0</td>\n",
       "      <td>0</td>\n",
       "      <td>0</td>\n",
       "      <td>1</td>\n",
       "      <td>1</td>\n",
       "      <td>0</td>\n",
       "      <td>0</td>\n",
       "    </tr>\n",
       "  </tbody>\n",
       "</table>\n",
       "<p>5 rows × 27 columns</p>\n",
       "</div>"
      ],
      "text/plain": [
       "   Item_Weight  Item_Visibility  Item_MRP  Outlet_Size  Item_Outlet_Sales  \\\n",
       "0         9.30         0.016047  249.8092            1          3735.1380   \n",
       "1         5.92         0.019278   48.2692            1           443.4228   \n",
       "2        17.50         0.016760  141.6180            1          2097.2700   \n",
       "3        19.20         0.066132  182.0950            1           732.3800   \n",
       "4         8.93         0.066132   53.8614            0           994.7052   \n",
       "\n",
       "   Years_Established  Item_Fat_Content_Regular  Item_Type_Breads  \\\n",
       "0                 22                         0                 0   \n",
       "1                 12                         1                 0   \n",
       "2                 22                         0                 0   \n",
       "3                 23                         1                 0   \n",
       "4                 34                         0                 0   \n",
       "\n",
       "   Item_Type_Breakfast  Item_Type_Canned  ...  Item_Type_Others  \\\n",
       "0                    0                 0  ...                 0   \n",
       "1                    0                 0  ...                 0   \n",
       "2                    0                 0  ...                 0   \n",
       "3                    0                 0  ...                 0   \n",
       "4                    0                 0  ...                 0   \n",
       "\n",
       "   Item_Type_Seafood  Item_Type_Snack Foods  Item_Type_Soft Drinks  \\\n",
       "0                  0                      0                      0   \n",
       "1                  0                      0                      1   \n",
       "2                  0                      0                      0   \n",
       "3                  0                      0                      0   \n",
       "4                  0                      0                      0   \n",
       "\n",
       "   Item_Type_Starchy Foods  Outlet_Location_Type_Tier 2  \\\n",
       "0                        0                            0   \n",
       "1                        0                            0   \n",
       "2                        0                            0   \n",
       "3                        0                            0   \n",
       "4                        0                            0   \n",
       "\n",
       "   Outlet_Location_Type_Tier 3  Outlet_Type_Supermarket Type1  \\\n",
       "0                            0                              1   \n",
       "1                            1                              0   \n",
       "2                            0                              1   \n",
       "3                            1                              0   \n",
       "4                            1                              1   \n",
       "\n",
       "   Outlet_Type_Supermarket Type2  Outlet_Type_Supermarket Type3  \n",
       "0                              0                              0  \n",
       "1                              1                              0  \n",
       "2                              0                              0  \n",
       "3                              0                              0  \n",
       "4                              0                              0  \n",
       "\n",
       "[5 rows x 27 columns]"
      ]
     },
     "execution_count": 19,
     "metadata": {},
     "output_type": "execute_result"
    }
   ],
   "source": [
    "reg_train.head()"
   ]
  },
  {
   "cell_type": "code",
   "execution_count": 20,
   "id": "0e0d2c02",
   "metadata": {},
   "outputs": [
    {
     "name": "stdout",
     "output_type": "stream",
     "text": [
      "Intercept :  -1705.639211550218\n"
     ]
    },
    {
     "data": {
      "image/png": "[encoded data removed]",
      "text/plain": [
       "<Figure size 432x288 with 1 Axes>"
      ]
     },
     "metadata": {
      "needs_background": "light"
     },
     "output_type": "display_data"
    },
    {
     "name": "stdout",
     "output_type": "stream",
     "text": [
      "R2 : 0.5395174083066159, MAE : 881.439523456149, MSE : 1423040.3558265327, RMSE : 1192.9125516258653\n"
     ]
    }
   ],
   "source": [
    "run_regression(reg_train)"
   ]
  },
  {
   "cell_type": "markdown",
   "id": "e03dd335",
   "metadata": {},
   "source": [
    "#### Handling Outliers"
   ]
  },
  {
   "cell_type": "markdown",
   "id": "82e3140a",
   "metadata": {},
   "source": [
    "outlier handling methods : https://machinelearningmastery.com/model-based-outlier-detection-and-removal-in-python/"
   ]
  },
  {
   "cell_type": "code",
   "execution_count": 21,
   "id": "37ef26e7",
   "metadata": {},
   "outputs": [
    {
     "name": "stdout",
     "output_type": "stream",
     "text": [
      "..........unnecessary columns deleted\n",
      "dataset size : (8523, 10)\n",
      "{'High': 0, 'Medium': 1, 'Small': 2}\n",
      "..........label encoding completed\n",
      "dataset size : (8523, 10)\n",
      "..........dummy variables created\n",
      "dataset size : (8523, 27)\n"
     ]
    }
   ],
   "source": [
    "encoded_train_copy = do_dataset(train_copy)"
   ]
  },
  {
   "cell_type": "code",
   "execution_count": 22,
   "id": "8881c1c9",
   "metadata": {},
   "outputs": [],
   "source": [
    "#isolation forest method\n",
    "\n",
    "iso = IsolationForest(contamination = 0.05)\n",
    "yhat = iso.fit_predict(encoded_train_copy)\n",
    "mask = yhat != -1"
   ]
  },
  {
   "cell_type": "code",
   "execution_count": 23,
   "id": "cef0eea9",
   "metadata": {},
   "outputs": [
    {
     "name": "stdout",
     "output_type": "stream",
     "text": [
      "(8523, 27)\n",
      "(8096, 27)\n"
     ]
    }
   ],
   "source": [
    "print(encoded_train_copy.shape)\n",
    "outlier_treated = encoded_train_copy[mask]\n",
    "print(outlier_treated.shape)"
   ]
  },
  {
   "cell_type": "code",
   "execution_count": 24,
   "id": "4981717a",
   "metadata": {},
   "outputs": [
    {
     "name": "stdout",
     "output_type": "stream",
     "text": [
      "Intercept :  -1654.6117068856493\n"
     ]
    },
    {
     "data": {
      "image/png": "[encoded data removed]",
      "text/plain": [
       "<Figure size 432x288 with 1 Axes>"
      ]
     },
     "metadata": {
      "needs_background": "light"
     },
     "output_type": "display_data"
    },
    {
     "name": "stdout",
     "output_type": "stream",
     "text": [
      "R2 : 0.5416610285059481, MAE : 802.2177500200087, MSE : 1170186.6741457141, RMSE : 1081.7516693519424\n"
     ]
    }
   ],
   "source": [
    "run_regression(outlier_treated)"
   ]
  },
  {
   "cell_type": "code",
   "execution_count": null,
   "id": "0d202531",
   "metadata": {},
   "outputs": [],
   "source": [
    "#minimum covariance determinant method\n",
    "\n",
    "ee = EllipticEnvelope(contamination=0.01)\n",
    "yhat = ee.fit_predict(X_train)"
   ]
  },
  {
   "cell_type": "code",
   "execution_count": null,
   "id": "18d315f4",
   "metadata": {},
   "outputs": [],
   "source": [
    "train_copy"
   ]
  },
  {
   "cell_type": "code",
   "execution_count": null,
   "id": "58655c93",
   "metadata": {},
   "outputs": [],
   "source": []
  }
 ],
 "metadata": {
  "kernelspec": {
   "display_name": "Python 3",
   "language": "python",
   "name": "python3"
  },
  "language_info": {
   "codemirror_mode": {
    "name": "ipython",
    "version": 3
   },
   "file_extension": ".py",
   "mimetype": "text/x-python",
   "name": "python",
   "nbconvert_exporter": "python",
   "pygments_lexer": "ipython3",
   "version": "3.8.8"
  }
 },
 "nbformat": 4,
 "nbformat_minor": 5
}
