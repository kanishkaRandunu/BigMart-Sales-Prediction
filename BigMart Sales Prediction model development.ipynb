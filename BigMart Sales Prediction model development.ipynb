{
 "cells": [
  {
   "cell_type": "code",
   "execution_count": 1,
   "id": "a502d357",
   "metadata": {},
   "outputs": [],
   "source": [
    "import pandas as pd\n",
    "import numpy as np\n",
    "import matplotlib.pyplot as plt\n",
    "import seaborn as sns\n",
    "\n",
    "import warnings\n",
    "warnings.filterwarnings('ignore')"
   ]
  },
  {
   "cell_type": "code",
   "execution_count": 2,
   "id": "6803060c",
   "metadata": {},
   "outputs": [],
   "source": [
    "from sklearn.preprocessing import LabelEncoder\n",
    "from sklearn.preprocessing import OneHotEncoder\n",
    "from sklearn.model_selection import train_test_split\n",
    "from sklearn.model_selection  import cross_val_score\n",
    "from sklearn import metrics\n",
    "from sklearn.preprocessing import StandardScaler\n",
    "from sklearn.linear_model import LinearRegression\n",
    "from sklearn.ensemble import RandomForestRegressor\n",
    "from sklearn.ensemble import IsolationForest\n",
    "from sklearn.covariance import EllipticEnvelope\n",
    "from sklearn.metrics import confusion_matrix"
   ]
  },
  {
   "cell_type": "code",
   "execution_count": 3,
   "id": "4857b799",
   "metadata": {},
   "outputs": [],
   "source": [
    "from sklearn.metrics import r2_score\n",
    "from math import sqrt"
   ]
  },
  {
   "cell_type": "code",
   "execution_count": 4,
   "id": "e2d35021",
   "metadata": {},
   "outputs": [],
   "source": [
    "train = pd.read_csv('df_train_copy')"
   ]
  },
  {
   "cell_type": "code",
   "execution_count": 5,
   "id": "46c6cadd",
   "metadata": {},
   "outputs": [],
   "source": [
    "train = train[['Item_Identifier', 'Item_Weight', 'Item_Fat_Content',\n",
    "       'Item_Visibility', 'Item_Type', 'Item_MRP', 'Outlet_Identifier',\n",
    "       'Outlet_Establishment_Year', 'Outlet_Size', 'Outlet_Location_Type',\n",
    "       'Outlet_Type', 'Item_Outlet_Sales', 'Years_Established']]\n",
    "\n",
    "train_copy = train.drop(['Item_Identifier','Outlet_Identifier','Outlet_Establishment_Year'],axis=1)\n",
    "rf_train = train.drop(['Item_Identifier','Outlet_Identifier','Outlet_Establishment_Year'],axis=1)"
   ]
  },
  {
   "cell_type": "code",
   "execution_count": 6,
   "id": "32080799",
   "metadata": {},
   "outputs": [],
   "source": [
    "def do_dataset(ip_dataset):\n",
    "\n",
    "    le = LabelEncoder()\n",
    "    to_encode = ['Outlet_Size']\n",
    "    for i in to_encode:\n",
    "        ip_dataset[i] =le.fit_transform(ip_dataset[i])\n",
    "        le_name_mapping = dict(zip(le.classes_, le.transform(le.classes_)))\n",
    "        print(le_name_mapping)\n",
    "    print('..........label encoding completed')\n",
    "    print('dataset size :',ip_dataset.shape)\n",
    "    \n",
    "    \n",
    "    cat_cols = ['Item_Fat_Content','Item_Type','Outlet_Location_Type','Outlet_Type']\n",
    "    dataset = pd.get_dummies(data = ip_dataset, prefix_sep='_', columns = cat_cols, drop_first =True, dtype='int8')\n",
    "    print('..........dummy variables created')\n",
    "    print('dataset size :',dataset.shape)\n",
    "    \n",
    "    return dataset"
   ]
  },
  {
   "cell_type": "code",
   "execution_count": 7,
   "id": "dc964099",
   "metadata": {},
   "outputs": [],
   "source": [
    "def rem_out_isoforest(encoded_ds):\n",
    "    iso = IsolationForest(contamination = 0.05)\n",
    "    yhat = iso.fit_predict(encoded_ds)\n",
    "    mask = yhat != -1\n",
    "    print(encoded_ds.shape)\n",
    "    outlier_treated = encoded_ds[mask]\n",
    "    print(outlier_treated.shape)\n",
    "    return outlier_treated"
   ]
  },
  {
   "cell_type": "code",
   "execution_count": 8,
   "id": "8d328852",
   "metadata": {},
   "outputs": [],
   "source": [
    "def rem_out_isoforest(encoded_ds):\n",
    "    iso = EllipticEnvelope(contamination = 0.01)\n",
    "    yhat = iso.fit_predict(encoded_ds)\n",
    "    mask = yhat != -1\n",
    "    print(encoded_ds.shape)\n",
    "    outlier_treated = encoded_ds[mask]\n",
    "    print(outlier_treated.shape)\n",
    "    return outlier_treated"
   ]
  },
  {
   "cell_type": "markdown",
   "id": "251da5e2",
   "metadata": {},
   "source": [
    "### Applying Linear Regression"
   ]
  },
  {
   "cell_type": "code",
   "execution_count": 9,
   "id": "d7ddb65a",
   "metadata": {},
   "outputs": [],
   "source": [
    "def run_regression(reg_dataset):\n",
    "    \n",
    "    features = reg_dataset.columns[reg_dataset.columns != 'Item_Outlet_Sales']\n",
    "    \n",
    "    X =  reg_dataset.loc[:, reg_dataset.columns != 'Item_Outlet_Sales']\n",
    "    y =  reg_dataset['Item_Outlet_Sales']\n",
    "    X_train, X_val, y_train, y_val = train_test_split(X,y,test_size=0.2,random_state=22)    \n",
    "    \n",
    "    lin_reg = LinearRegression(normalize = True)\n",
    "    lin_reg.fit(X_train,y_train)\n",
    "    y_pred = lin_reg.predict(X_val)\n",
    "    \n",
    "    #plt.figure(figsize=(8,12))\n",
    "    #sns.barplot(lin_reg.coef_,features)\n",
    "    print('Intercept : ', lin_reg.intercept_)\n",
    "    #coef = pd.Series(lin_reg.coef_,features).sort_values()\n",
    "    #print('---------------- coefficients -------------------') \n",
    "    #print(coef) \n",
    "    \n",
    "    df = pd.DataFrame({'Actual': y_val, 'Predicted': y_pred})\n",
    "    #ax1 = sns.displot(df['Actual'], color = 'red', label = \"Actual values\")\n",
    "    #sns.displot(df['Actual'], color = 'blue', label = \"Predicted values\", ax = ax1)\n",
    "    \n",
    "    sns.distplot(df['Actual'], hist=False, rug=True, label = 'Actual')\n",
    "    sns.distplot(df['Predicted'], hist=False, rug=True, label = 'Pred')\n",
    "    plt.legend()\n",
    "    plt.show()\n",
    "    \n",
    "    R2   = r2_score(y_val,y_pred)\n",
    "    MAE  = metrics.mean_absolute_error(y_val,y_pred)\n",
    "    MSE  = metrics.mean_squared_error(y_val,y_pred)\n",
    "    RMSE = sqrt(MSE)\n",
    "\n",
    "    print(\"R2 : {}, MAE : {}, MSE : {}, RMSE : {}\".format(R2, MAE, MSE, RMSE))"
   ]
  },
  {
   "cell_type": "code",
   "execution_count": 10,
   "id": "55843043",
   "metadata": {},
   "outputs": [
    {
     "name": "stdout",
     "output_type": "stream",
     "text": [
      "{'High': 0, 'Medium': 1, 'Small': 2}\n",
      "..........label encoding completed\n",
      "dataset size : (8523, 10)\n",
      "..........dummy variables created\n",
      "dataset size : (8523, 27)\n"
     ]
    }
   ],
   "source": [
    "reg_train = do_dataset(train_copy)"
   ]
  },
  {
   "cell_type": "code",
   "execution_count": 11,
   "id": "a44e71b4",
   "metadata": {},
   "outputs": [],
   "source": [
    "#reg_train.head()"
   ]
  },
  {
   "cell_type": "code",
   "execution_count": 12,
   "id": "db782cd4",
   "metadata": {},
   "outputs": [
    {
     "name": "stdout",
     "output_type": "stream",
     "text": [
      "Intercept :  -1705.639211550218\n"
     ]
    },
    {
     "data": {
      "image/png": "[encoded data removed]",
      "text/plain": [
       "<Figure size 432x288 with 1 Axes>"
      ]
     },
     "metadata": {
      "needs_background": "light"
     },
     "output_type": "display_data"
    },
    {
     "name": "stdout",
     "output_type": "stream",
     "text": [
      "R2 : 0.5395174083066159, MAE : 881.439523456149, MSE : 1423040.3558265327, RMSE : 1192.9125516258653\n"
     ]
    }
   ],
   "source": [
    "run_regression(reg_train)"
   ]
  },
  {
   "cell_type": "markdown",
   "id": "0eb6ad71",
   "metadata": {},
   "source": [
    "#### Handling Outliers"
   ]
  },
  {
   "cell_type": "markdown",
   "id": "18b866ac",
   "metadata": {},
   "source": [
    "outlier handling methods : https://machinelearningmastery.com/model-based-outlier-detection-and-removal-in-python/"
   ]
  },
  {
   "cell_type": "code",
   "execution_count": 13,
   "id": "de0759d5",
   "metadata": {},
   "outputs": [
    {
     "name": "stdout",
     "output_type": "stream",
     "text": [
      "{0: 0, 1: 1, 2: 2}\n",
      "..........label encoding completed\n",
      "dataset size : (8523, 10)\n",
      "..........dummy variables created\n",
      "dataset size : (8523, 27)\n"
     ]
    }
   ],
   "source": [
    "encoded_train_copy = do_dataset(train_copy)"
   ]
  },
  {
   "cell_type": "code",
   "execution_count": 14,
   "id": "52218ea7",
   "metadata": {},
   "outputs": [
    {
     "name": "stdout",
     "output_type": "stream",
     "text": [
      "(8523, 27)\n",
      "(8437, 27)\n"
     ]
    }
   ],
   "source": [
    "#isolation forest method\n",
    "\n",
    "outlier_treated = rem_out_isoforest(encoded_train_copy)"
   ]
  },
  {
   "cell_type": "code",
   "execution_count": 15,
   "id": "1a52cb64",
   "metadata": {},
   "outputs": [
    {
     "name": "stdout",
     "output_type": "stream",
     "text": [
      "Intercept :  -1812.6367821104313\n"
     ]
    },
    {
     "data": {
      "image/png": "[encoded data removed]",
      "text/plain": [
       "<Figure size 432x288 with 1 Axes>"
      ]
     },
     "metadata": {
      "needs_background": "light"
     },
     "output_type": "display_data"
    },
    {
     "name": "stdout",
     "output_type": "stream",
     "text": [
      "R2 : 0.5442287825725411, MAE : 877.5618954321608, MSE : 1400470.87022242, RMSE : 1183.414918877745\n"
     ]
    }
   ],
   "source": [
    "run_regression(outlier_treated)"
   ]
  },
  {
   "cell_type": "code",
   "execution_count": 16,
   "id": "52cad776",
   "metadata": {},
   "outputs": [
    {
     "name": "stdout",
     "output_type": "stream",
     "text": [
      "{0: 0, 1: 1, 2: 2}\n",
      "..........label encoding completed\n",
      "dataset size : (8523, 10)\n",
      "..........dummy variables created\n",
      "dataset size : (8523, 27)\n"
     ]
    }
   ],
   "source": [
    "#minimum covariance determinant method\n",
    "\n",
    "encoded_train_copy2 = do_dataset(train_copy)"
   ]
  },
  {
   "cell_type": "code",
   "execution_count": 17,
   "id": "ed5da392",
   "metadata": {},
   "outputs": [
    {
     "name": "stdout",
     "output_type": "stream",
     "text": [
      "(8523, 27)\n",
      "(8437, 27)\n"
     ]
    }
   ],
   "source": [
    "outlier_treated2 = rem_out_isoforest(encoded_train_copy2)"
   ]
  },
  {
   "cell_type": "code",
   "execution_count": 18,
   "id": "1a8f7ecb",
   "metadata": {},
   "outputs": [
    {
     "name": "stdout",
     "output_type": "stream",
     "text": [
      "Intercept :  -1756.143737412248\n"
     ]
    },
    {
     "data": {
      "image/png": "[encoded data removed]",
      "text/plain": [
       "<Figure size 432x288 with 1 Axes>"
      ]
     },
     "metadata": {
      "needs_background": "light"
     },
     "output_type": "display_data"
    },
    {
     "name": "stdout",
     "output_type": "stream",
     "text": [
      "R2 : 0.5535874937143774, MAE : 865.5127903169829, MSE : 1334608.1944422044, RMSE : 1155.25243754004\n"
     ]
    }
   ],
   "source": [
    "run_regression(outlier_treated2)"
   ]
  },
  {
   "cell_type": "markdown",
   "id": "7079a9ee",
   "metadata": {},
   "source": [
    "considering the above 3 methods, isolation forest method has some slight advantage over the other 2. "
   ]
  },
  {
   "cell_type": "markdown",
   "id": "6c7d3022",
   "metadata": {},
   "source": [
    "### Applying Random Forest"
   ]
  },
  {
   "cell_type": "code",
   "execution_count": 19,
   "id": "e7ac9230",
   "metadata": {},
   "outputs": [],
   "source": [
    "rf = RandomForestRegressor(n_estimators=200,max_depth=5, min_samples_leaf=50,n_jobs=4,random_state=22)"
   ]
  },
  {
   "cell_type": "markdown",
   "id": "0e26ee8f",
   "metadata": {},
   "source": [
    "For this I am not going to handle outliers or to do onehot encoding as tree based algorithms manages them well"
   ]
  },
  {
   "cell_type": "code",
   "execution_count": 20,
   "id": "71633fff",
   "metadata": {},
   "outputs": [
    {
     "data": {
      "text/html": [
       "<div>\n",
       "<style scoped>\n",
       "    .dataframe tbody tr th:only-of-type {\n",
       "        vertical-align: middle;\n",
       "    }\n",
       "\n",
       "    .dataframe tbody tr th {\n",
       "        vertical-align: top;\n",
       "    }\n",
       "\n",
       "    .dataframe thead th {\n",
       "        text-align: right;\n",
       "    }\n",
       "</style>\n",
       "<table border=\"1\" class=\"dataframe\">\n",
       "  <thead>\n",
       "    <tr style=\"text-align: right;\">\n",
       "      <th></th>\n",
       "      <th>Item_Weight</th>\n",
       "      <th>Item_Fat_Content</th>\n",
       "      <th>Item_Visibility</th>\n",
       "      <th>Item_Type</th>\n",
       "      <th>Item_MRP</th>\n",
       "      <th>Outlet_Size</th>\n",
       "      <th>Outlet_Location_Type</th>\n",
       "      <th>Outlet_Type</th>\n",
       "      <th>Item_Outlet_Sales</th>\n",
       "      <th>Years_Established</th>\n",
       "    </tr>\n",
       "  </thead>\n",
       "  <tbody>\n",
       "    <tr>\n",
       "      <th>0</th>\n",
       "      <td>9.30</td>\n",
       "      <td>Low Fat</td>\n",
       "      <td>0.016047</td>\n",
       "      <td>Dairy</td>\n",
       "      <td>249.8092</td>\n",
       "      <td>1</td>\n",
       "      <td>Tier 1</td>\n",
       "      <td>Supermarket Type1</td>\n",
       "      <td>3735.1380</td>\n",
       "      <td>22</td>\n",
       "    </tr>\n",
       "    <tr>\n",
       "      <th>1</th>\n",
       "      <td>5.92</td>\n",
       "      <td>Regular</td>\n",
       "      <td>0.019278</td>\n",
       "      <td>Soft Drinks</td>\n",
       "      <td>48.2692</td>\n",
       "      <td>1</td>\n",
       "      <td>Tier 3</td>\n",
       "      <td>Supermarket Type2</td>\n",
       "      <td>443.4228</td>\n",
       "      <td>12</td>\n",
       "    </tr>\n",
       "    <tr>\n",
       "      <th>2</th>\n",
       "      <td>17.50</td>\n",
       "      <td>Low Fat</td>\n",
       "      <td>0.016760</td>\n",
       "      <td>Meat</td>\n",
       "      <td>141.6180</td>\n",
       "      <td>1</td>\n",
       "      <td>Tier 1</td>\n",
       "      <td>Supermarket Type1</td>\n",
       "      <td>2097.2700</td>\n",
       "      <td>22</td>\n",
       "    </tr>\n",
       "    <tr>\n",
       "      <th>3</th>\n",
       "      <td>19.20</td>\n",
       "      <td>Regular</td>\n",
       "      <td>0.066132</td>\n",
       "      <td>Fruits and Vegetables</td>\n",
       "      <td>182.0950</td>\n",
       "      <td>1</td>\n",
       "      <td>Tier 3</td>\n",
       "      <td>Grocery Store</td>\n",
       "      <td>732.3800</td>\n",
       "      <td>23</td>\n",
       "    </tr>\n",
       "    <tr>\n",
       "      <th>4</th>\n",
       "      <td>8.93</td>\n",
       "      <td>Low Fat</td>\n",
       "      <td>0.066132</td>\n",
       "      <td>Household</td>\n",
       "      <td>53.8614</td>\n",
       "      <td>0</td>\n",
       "      <td>Tier 3</td>\n",
       "      <td>Supermarket Type1</td>\n",
       "      <td>994.7052</td>\n",
       "      <td>34</td>\n",
       "    </tr>\n",
       "  </tbody>\n",
       "</table>\n",
       "</div>"
      ],
      "text/plain": [
       "   Item_Weight Item_Fat_Content  Item_Visibility              Item_Type  \\\n",
       "0         9.30          Low Fat         0.016047                  Dairy   \n",
       "1         5.92          Regular         0.019278            Soft Drinks   \n",
       "2        17.50          Low Fat         0.016760                   Meat   \n",
       "3        19.20          Regular         0.066132  Fruits and Vegetables   \n",
       "4         8.93          Low Fat         0.066132              Household   \n",
       "\n",
       "   Item_MRP  Outlet_Size Outlet_Location_Type        Outlet_Type  \\\n",
       "0  249.8092            1               Tier 1  Supermarket Type1   \n",
       "1   48.2692            1               Tier 3  Supermarket Type2   \n",
       "2  141.6180            1               Tier 1  Supermarket Type1   \n",
       "3  182.0950            1               Tier 3      Grocery Store   \n",
       "4   53.8614            0               Tier 3  Supermarket Type1   \n",
       "\n",
       "   Item_Outlet_Sales  Years_Established  \n",
       "0          3735.1380                 22  \n",
       "1           443.4228                 12  \n",
       "2          2097.2700                 22  \n",
       "3           732.3800                 23  \n",
       "4           994.7052                 34  "
      ]
     },
     "execution_count": 20,
     "metadata": {},
     "output_type": "execute_result"
    }
   ],
   "source": [
    "train_copy.head()"
   ]
  },
  {
   "cell_type": "code",
   "execution_count": 21,
   "id": "ce546915",
   "metadata": {},
   "outputs": [
    {
     "name": "stdout",
     "output_type": "stream",
     "text": [
      "{'High': 0, 'Medium': 1, 'Small': 2}\n",
      "{'Low Fat': 0, 'Regular': 1}\n",
      "{'Baking Goods': 0, 'Breads': 1, 'Breakfast': 2, 'Canned': 3, 'Dairy': 4, 'Frozen Foods': 5, 'Fruits and Vegetables': 6, 'Hard Drinks': 7, 'Health and Hygiene': 8, 'Household': 9, 'Meat': 10, 'Others': 11, 'Seafood': 12, 'Snack Foods': 13, 'Soft Drinks': 14, 'Starchy Foods': 15}\n",
      "{0: 0, 1: 1, 2: 2}\n",
      "{'Tier 1': 0, 'Tier 2': 1, 'Tier 3': 2}\n",
      "{'Grocery Store': 0, 'Supermarket Type1': 1, 'Supermarket Type2': 2, 'Supermarket Type3': 3}\n"
     ]
    }
   ],
   "source": [
    "le = LabelEncoder()\n",
    "to_encode = ['Outlet_Size','Item_Fat_Content','Item_Type','Outlet_Size','Outlet_Location_Type','Outlet_Type' ]\n",
    "for i in to_encode:\n",
    "    rf_train[i] =le.fit_transform(rf_train[i])\n",
    "    le_name_mapping = dict(zip(le.classes_, le.transform(le.classes_)))\n",
    "    print(le_name_mapping)"
   ]
  },
  {
   "cell_type": "code",
   "execution_count": 22,
   "id": "1cbad501",
   "metadata": {},
   "outputs": [],
   "source": [
    "X =  rf_train.loc[:, rf_train.columns != 'Item_Outlet_Sales']\n",
    "y =  rf_train['Item_Outlet_Sales']\n",
    "X_train, X_val, y_train, y_val = train_test_split(X,y,test_size=0.2,random_state=22) "
   ]
  },
  {
   "cell_type": "code",
   "execution_count": 23,
   "id": "2295f82d",
   "metadata": {},
   "outputs": [
    {
     "data": {
      "text/plain": [
       "RandomForestRegressor(max_depth=5, min_samples_leaf=50, n_estimators=200,\n",
       "                      n_jobs=4, random_state=22)"
      ]
     },
     "execution_count": 23,
     "metadata": {},
     "output_type": "execute_result"
    }
   ],
   "source": [
    "rf.fit(X_train, y_train)"
   ]
  },
  {
   "cell_type": "code",
   "execution_count": 24,
   "id": "b74d1ef4",
   "metadata": {},
   "outputs": [],
   "source": [
    "y_pred = rf.predict(X_val)"
   ]
  },
  {
   "cell_type": "code",
   "execution_count": 25,
   "id": "ebe7af3a",
   "metadata": {},
   "outputs": [
    {
     "data": {
      "text/plain": [
       "<AxesSubplot:>"
      ]
     },
     "execution_count": 25,
     "metadata": {},
     "output_type": "execute_result"
    },
    {
     "data": {
      "image/png": "[encoded data removed]",
      "text/plain": [
       "<Figure size 576x360 with 1 Axes>"
      ]
     },
     "metadata": {
      "needs_background": "light"
     },
     "output_type": "display_data"
    }
   ],
   "source": [
    "features = rf_train.columns[rf_train.columns != 'Item_Outlet_Sales']\n",
    "\n",
    "#coef_rf = pd.Series(rf.feature_importances_, features).sort_values(ascending=False)\n",
    "\n",
    "plt.figure(figsize=(8,5))\n",
    "sns.barplot(rf.feature_importances_,features)"
   ]
  },
  {
   "cell_type": "code",
   "execution_count": 26,
   "id": "dd643c99",
   "metadata": {},
   "outputs": [],
   "source": [
    "#do we need to convert labels into numbers before applying RF\n",
    "#what is cross validation"
   ]
  },
  {
   "cell_type": "code",
   "execution_count": 27,
   "id": "dfa797ed",
   "metadata": {},
   "outputs": [
    {
     "data": {
      "image/png": "[encoded data removed]",
      "text/plain": [
       "<Figure size 432x288 with 1 Axes>"
      ]
     },
     "metadata": {
      "needs_background": "light"
     },
     "output_type": "display_data"
    }
   ],
   "source": [
    "df = pd.DataFrame({'Actual': y_val, 'Predicted': y_pred})\n",
    "\n",
    "sns.distplot(df['Actual'], hist=False, rug=True, label = 'Actual')\n",
    "sns.distplot(df['Predicted'], hist=False, rug=True, label = 'Pred')\n",
    "plt.legend()\n",
    "plt.show()\n",
    "    "
   ]
  },
  {
   "cell_type": "code",
   "execution_count": null,
   "id": "03fec7db",
   "metadata": {},
   "outputs": [],
   "source": []
  },
  {
   "cell_type": "code",
   "execution_count": null,
   "id": "38e33de5",
   "metadata": {},
   "outputs": [],
   "source": []
  }
 ],
 "metadata": {
  "kernelspec": {
   "display_name": "Python 3",
   "language": "python",
   "name": "python3"
  },
  "language_info": {
   "codemirror_mode": {
    "name": "ipython",
    "version": 3
   },
   "file_extension": ".py",
   "mimetype": "text/x-python",
   "name": "python",
   "nbconvert_exporter": "python",
   "pygments_lexer": "ipython3",
   "version": "3.8.8"
  }
 },
 "nbformat": 4,
 "nbformat_minor": 5
}
